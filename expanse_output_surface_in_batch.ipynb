{
  "nbformat": 4,
  "nbformat_minor": 0,
  "metadata": {
    "colab": {
      "name": "expanse output surface in batch.ipynb",
      "provenance": [],
      "collapsed_sections": [],
      "toc_visible": true,
      "include_colab_link": true
    },
    "kernelspec": {
      "name": "python3",
      "display_name": "Python 3"
    }
  },
  "cells": [
    {
      "cell_type": "markdown",
      "metadata": {
        "id": "view-in-github",
        "colab_type": "text"
      },
      "source": [
        "<a href=\"https://colab.research.google.com/github/co822ee/expanse_multiyear/blob/master/expanse_output_surface_in_batch.ipynb\" target=\"_parent\"><img src=\"https://colab.research.google.com/assets/colab-badge.svg\" alt=\"Open In Colab\"/></a>"
      ]
    },
    {
      "cell_type": "markdown",
      "metadata": {
        "id": "aV1xZ1CPi3Nw"
      },
      "source": [
        "<table class=\"ee-notebook-buttons\" align=\"left\"><td>\n",
        "<a target=\"_blank\"  href=\"http://colab.research.google.com/github/google/earthengine-api/blob/master/python/examples/ipynb/ee-api-colab-setup.ipynb\">\n",
        "    <img src=\"https://www.tensorflow.org/images/colab_logo_32px.png\" /> Run in Google Colab</a>\n",
        "</td><td>\n",
        "<a target=\"_blank\"  href=\"https://github.com/google/earthengine-api/blob/master/python/examples/ipynb/ee-api-colab-setup.ipynb\"><img width=32px src=\"https://www.tensorflow.org/images/GitHub-Mark-32px.png\" /> View source on GitHub</a></td></table>"
      ]
    },
    {
      "cell_type": "markdown",
      "metadata": {
        "id": "a69CuP5Q6OI7"
      },
      "source": [
        "## Import API and get credentials\n",
        "\n",
        "The Earth Engine API is installed by default in Google Colaboratory so requires only importing and authenticating. These steps must be completed for each new Colab session, if you restart your Colab kernel, or if your Colab virtual machine is recycled due to inactivity."
      ]
    },
    {
      "cell_type": "markdown",
      "metadata": {
        "id": "SNh-QBc36Mvk"
      },
      "source": [
        "### Import the API\n",
        "\n",
        "Run the following cell to import the API into your session."
      ]
    },
    {
      "cell_type": "code",
      "metadata": {
        "id": "65RChERMzQHZ"
      },
      "source": [
        "import ee"
      ],
      "execution_count": null,
      "outputs": []
    },
    {
      "cell_type": "markdown",
      "metadata": {
        "id": "s-dN42MTzg-w"
      },
      "source": [
        "### Authenticate and initialize\n",
        "\n",
        "Run the `ee.Authenticate` function to authenticate your access to Earth Engine servers and `ee.Initialize` to initialize it. Upon running the following cell you'll be asked to grant Earth Engine access to your Google account. Follow the instructions printed to the cell."
      ]
    },
    {
      "cell_type": "code",
      "metadata": {
        "id": "NMp9Ei9b0XXL",
        "colab": {
          "base_uri": "https://localhost:8080/"
        },
        "outputId": "4d52acb7-6159-4ca2-d38b-09195a20b0df"
      },
      "source": [
        "# Trigger the authentication flow.\n",
        "ee.Authenticate()\n",
        "\n",
        "# Initialize the library.\n",
        "ee.Initialize()"
      ],
      "execution_count": null,
      "outputs": [
        {
          "output_type": "stream",
          "name": "stdout",
          "text": [
            "To authorize access needed by Earth Engine, open the following URL in a web browser and follow the instructions. If the web browser does not start automatically, please manually browse the URL below.\n",
            "\n",
            "    https://accounts.google.com/o/oauth2/auth?client_id=517222506229-vsmmajv00ul0bs7p89v5m89qs8eb9359.apps.googleusercontent.com&scope=https%3A%2F%2Fwww.googleapis.com%2Fauth%2Fearthengine+https%3A%2F%2Fwww.googleapis.com%2Fauth%2Fdevstorage.full_control&redirect_uri=urn%3Aietf%3Awg%3Aoauth%3A2.0%3Aoob&response_type=code&code_challenge=OtU4bG_0ShLpPCU-w1Q9uK9o31w1zmtUXaeRK1ms0kU&code_challenge_method=S256\n",
            "\n",
            "The authorization workflow will generate a code, which you should paste in the box below. \n",
            "Enter verification code: 4/1AX4XfWh-EETesJPux1Nf9DD6noLsCpWEu3kQDWlZWBgXDq1_Lg8tZ-XZnZA\n",
            "\n",
            "Successfully saved authorization token.\n"
          ]
        }
      ]
    },
    {
      "cell_type": "markdown",
      "metadata": {
        "id": "8I_Fr0L5AFmu"
      },
      "source": [
        "## Test the API\n",
        "\n",
        "Test the API by printing the elevation of Mount Everest."
      ]
    },
    {
      "cell_type": "code",
      "metadata": {
        "id": "v7pD6pDOAhOW",
        "colab": {
          "base_uri": "https://localhost:8080/"
        },
        "outputId": "ff5a03ad-2cca-430c-d38e-39fa3c493ee9"
      },
      "source": [
        "# Print the elevation of Mount Everest.\n",
        "dem = ee.Image('USGS/SRTMGL1_003')\n",
        "xy = ee.Geometry.Point([86.9250, 27.9881])\n",
        "elev = dem.sample(xy, 30).first().get('elevation').getInfo()\n",
        "print('Mount Everest elevation (m):', elev)"
      ],
      "execution_count": null,
      "outputs": [
        {
          "output_type": "stream",
          "name": "stdout",
          "text": [
            "Mount Everest elevation (m): 8729\n"
          ]
        }
      ]
    },
    {
      "cell_type": "markdown",
      "source": [
        "# Prepare input parameters"
      ],
      "metadata": {
        "id": "4ISR8hDC_0NA"
      }
    },
    {
      "cell_type": "code",
      "source": [
        "expanse_100mgrid = ee.Image(\"users/youchenshenuu/new_expanse100m\");\n",
        "projection = expanse_100mgrid.projection().getInfo();\n",
        "\n",
        "\n",
        "polls = ['NO2', 'O3', 'PM10', 'PM25'];\n",
        "pollsfolders=['no2','o3','pm10','pm25'];"
      ],
      "metadata": {
        "id": "Pc2HrOfBwtjv"
      },
      "execution_count": null,
      "outputs": []
    },
    {
      "cell_type": "code",
      "source": [
        "\n",
        "# Output surfaces by country:\n",
        "table = ee.FeatureCollection(\"projects/expanse/eu_expanse2\");\n",
        "# def clipImgWithPoly(img, tblCollection, cntr_name, bandname):\n",
        "#  tbl = ee.Feature(tblCollection.filter(ee.Filter.eq('NAME_ENGL', cntr_name)).first())\n",
        "#  region = tbl.buffer(10000)   # buffer around 10km\n",
        "\n",
        "#  task = ee.batch.Export.image.toCloudStorage(\n",
        "#     image = img.clip(region),\n",
        "#     description = bandname,\n",
        "#     bucket ='street-view-air-quality-uu',\n",
        "#     fileNamePrefix = 'YS_Model_Outputs/' + cntr_name+'/'+bandname,\n",
        "#     crs = 'EPSG:3035',\n",
        "#     crsTransform = projection['transform'],\n",
        "#     scale = 25,\n",
        "#     skipEmptyTiles = True,\n",
        "#     maxPixels = 1e13 ,\n",
        "#     region = region\n",
        "#   )\n",
        "\n",
        "  "
      ],
      "metadata": {
        "id": "S2CXAIvVw7WJ"
      },
      "execution_count": null,
      "outputs": []
    },
    {
      "cell_type": "markdown",
      "source": [
        "Define country:"
      ],
      "metadata": {
        "id": "ZB2xrd4GyR8u"
      }
    },
    {
      "cell_type": "code",
      "source": [
        "cntrNames = ['Liechtenstein','Luxembourg','Croatia','Monaco','Netherlands','Germany','Albania','Iceland','North Macedonia','Belgium','Poland','Bulgaria','United Kingdom','Switzerland','Slovenia','Vatican City','San Marino','Jersey','Denmark','Bosnia and Herzegovina','Ireland','Faroes','Slovakia','Romania','Estonia','Czechia','Greece','Sweden','Latvia','Montenegro','Spain','Portugal','Austria','Lithuania','Andorra','France','Serbia','Guernsey','Isle of Man','Italy','Hungary','Finland','Norway'];"
      ],
      "metadata": {
        "id": "rPSF3cOGyQlw"
      },
      "execution_count": null,
      "outputs": []
    },
    {
      "cell_type": "markdown",
      "source": [
        "testing:"
      ],
      "metadata": {
        "id": "EGW06TYw28el"
      }
    },
    {
      "cell_type": "code",
      "source": [
        "# poll_i = 3\n",
        "# poll = polls[poll_i];\n",
        "# pollfolder = pollsfolders[poll_i];\n",
        "# band_i=1;\n",
        "\n",
        "# image_lists = ee.List([\n",
        "#                       ee.Image(\"projects/ee-gtwr-\"+pollfolder+\"/assets/GTWR_00-19_25m_0_\"+\n",
        "#                       poll+\"_d83c02c9f398ed7a910ad71c3bf206a1\"),\n",
        "#                       ee.Image(\"projects/ee-gtwr-\"+pollfolder+\"/assets/GTWR_00-19_25m_1_\"+\n",
        "#                       poll+\"_d83c02c9f398ed7a910ad71c3bf206a1\"),\n",
        "#                       ee.Image(\"projects/ee-gtwr-\"+pollfolder+\"/assets/GTWR_00-19_25m_2_\"+\n",
        "#                       poll+\"_d83c02c9f398ed7a910ad71c3bf206a1\"),\n",
        "#                       ee.Image(\"projects/ee-gtwr-\"+pollfolder+\"/assets/GTWR_00-19_25m_3_\"+\n",
        "#                       poll+\"_d83c02c9f398ed7a910ad71c3bf206a1\"),\n",
        "#                       ee.Image(\"projects/ee-gtwr-\"+pollfolder+\"/assets/GTWR_00-19_25m_4_\"+\n",
        "#                       poll+\"_d83c02c9f398ed7a910ad71c3bf206a1\"),\n",
        "#                       ee.Image(\"projects/ee-gtwr-\"+pollfolder+\"/assets/GTWR_00-19_25m_5_\"+\n",
        "#                       poll+\"_d83c02c9f398ed7a910ad71c3bf206a1\"),\n",
        "#                       ee.Image(\"projects/ee-gtwr-\"+pollfolder+\"/assets/GTWR_00-19_25m_6_\"+\n",
        "#                       poll+\"_d83c02c9f398ed7a910ad71c3bf206a1\"),\n",
        "#                       ee.Image(\"projects/ee-gtwr-\"+pollfolder+\"/assets/GTWR_00-19_25m_7_\"+\n",
        "#                       poll+\"_d83c02c9f398ed7a910ad71c3bf206a1\"),\n",
        "#                       ee.Image(\"projects/ee-gtwr-\"+pollfolder+\"/assets/GTWR_00-19_25m_8_\"+\n",
        "#                       poll+\"_d83c02c9f398ed7a910ad71c3bf206a1\")\n",
        "#                       ])\n",
        "# imgColl = ee.ImageCollection(image_lists)\n",
        "# img = imgColl.mosaic();  # an image with 20 bands (each band contain the map for each year)\n",
        "\n",
        "# newname = img.bandNames().map(lambda name: ee.String(poll).cat(ee.String((ee.String(ee.String(name).split('_').get(2))))))\n",
        "\n",
        "# img = img.rename(newname);\n",
        "\n",
        "# # make negative values as zero\n",
        "# img = img.multiply(img.gt(0))\n",
        "# #  output asset to cloud\n",
        "\n",
        "# names = img.bandNames().getInfo()\n",
        "\n",
        "\n",
        "# name = names[band_i];\n",
        "# img_1band = img.select(name);\n",
        "# i = 0\n",
        "# # clipImgWithPoly(img_1band, table, cntrNames[i], name)\n",
        "\n",
        "# tblCollection = table;\n",
        "# cntr_name = cntrNames[i];\n",
        "# tbl = ee.Feature(tblCollection.filter(ee.Filter.eq('NAME_ENGL', cntr_name)).first())\n",
        "# region = tbl.buffer(10000)   # buffer around 10km\n",
        "\n",
        "# task = ee.batch.Export.image.toCloudStorage(\n",
        "#   image = img_1band.clip(region),\n",
        "#   description = name,\n",
        "#   bucket ='street-view-air-quality-uu',\n",
        "#   fileNamePrefix = 'YS_Model_Outputs/' + cntr_name+'/'+name,\n",
        "#   crs = 'EPSG:3035',\n",
        "#   crsTransform = projection['transform'],\n",
        "#   scale = 25,\n",
        "#   skipEmptyTiles = True,\n",
        "#   maxPixels = 1e13 ,\n",
        "#   region = region\n",
        "# );\n"
      ],
      "metadata": {
        "id": "wlKB7PDkzIdi"
      },
      "execution_count": null,
      "outputs": []
    },
    {
      "cell_type": "code",
      "source": [
        "# task.status()\n",
        "# task.start()"
      ],
      "metadata": {
        "colab": {
          "base_uri": "https://localhost:8080/",
          "height": 184
        },
        "id": "gx3ixxAT271e",
        "outputId": "a5365b0f-9bd4-40d7-92f5-3db3c427e917"
      },
      "execution_count": null,
      "outputs": [
        {
          "output_type": "error",
          "ename": "NameError",
          "evalue": "ignored",
          "traceback": [
            "\u001b[0;31m---------------------------------------------------------------------------\u001b[0m",
            "\u001b[0;31mNameError\u001b[0m                                 Traceback (most recent call last)",
            "\u001b[0;32m<ipython-input-5-ba1f853b7373>\u001b[0m in \u001b[0;36m<module>\u001b[0;34m()\u001b[0m\n\u001b[0;32m----> 1\u001b[0;31m \u001b[0mtask\u001b[0m\u001b[0;34m.\u001b[0m\u001b[0mstatus\u001b[0m\u001b[0;34m(\u001b[0m\u001b[0;34m)\u001b[0m\u001b[0;34m\u001b[0m\u001b[0;34m\u001b[0m\u001b[0m\n\u001b[0m\u001b[1;32m      2\u001b[0m \u001b[0;31m# task.start()\u001b[0m\u001b[0;34m\u001b[0m\u001b[0;34m\u001b[0m\u001b[0;34m\u001b[0m\u001b[0m\n",
            "\u001b[0;31mNameError\u001b[0m: name 'task' is not defined"
          ]
        }
      ]
    },
    {
      "cell_type": "code",
      "source": [
        "# For all pollutants\n",
        "# for poll_i in range(len(polls)):\n",
        "  \n",
        "  \n",
        "#   poll = polls[poll_i];\n",
        "#   pollfolder = pollsfolders[poll_i];\n",
        "#   band_i=0;\n",
        "  \n",
        "#   image_lists = ee.List([\n",
        "#                         ee.Image(\"projects/ee-gtwr-\"+pollfolder+\"/assets/GTWR_00-19_25m_0_\"+\n",
        "#                         poll+\"_d83c02c9f398ed7a910ad71c3bf206a1\"),\n",
        "#                         ee.Image(\"projects/ee-gtwr-\"+pollfolder+\"/assets/GTWR_00-19_25m_1_\"+\n",
        "#                         poll+\"_d83c02c9f398ed7a910ad71c3bf206a1\"),\n",
        "#                         ee.Image(\"projects/ee-gtwr-\"+pollfolder+\"/assets/GTWR_00-19_25m_2_\"+\n",
        "#                         poll+\"_d83c02c9f398ed7a910ad71c3bf206a1\"),\n",
        "#                         ee.Image(\"projects/ee-gtwr-\"+pollfolder+\"/assets/GTWR_00-19_25m_3_\"+\n",
        "#                         poll+\"_d83c02c9f398ed7a910ad71c3bf206a1\"),\n",
        "#                         ee.Image(\"projects/ee-gtwr-\"+pollfolder+\"/assets/GTWR_00-19_25m_4_\"+\n",
        "#                         poll+\"_d83c02c9f398ed7a910ad71c3bf206a1\"),\n",
        "#                         ee.Image(\"projects/ee-gtwr-\"+pollfolder+\"/assets/GTWR_00-19_25m_5_\"+\n",
        "#                         poll+\"_d83c02c9f398ed7a910ad71c3bf206a1\"),\n",
        "#                         ee.Image(\"projects/ee-gtwr-\"+pollfolder+\"/assets/GTWR_00-19_25m_6_\"+\n",
        "#                         poll+\"_d83c02c9f398ed7a910ad71c3bf206a1\"),\n",
        "#                         ee.Image(\"projects/ee-gtwr-\"+pollfolder+\"/assets/GTWR_00-19_25m_7_\"+\n",
        "#                         poll+\"_d83c02c9f398ed7a910ad71c3bf206a1\"),\n",
        "#                         ee.Image(\"projects/ee-gtwr-\"+pollfolder+\"/assets/GTWR_00-19_25m_8_\"+\n",
        "#                         poll+\"_d83c02c9f398ed7a910ad71c3bf206a1\")\n",
        "#                         ])\n",
        "#   imgColl = ee.ImageCollection(image_lists)\n",
        "#   img = imgColl.mosaic();  # an image with 20 bands (each band contain the map for each year)\n",
        "  \n",
        "  \n",
        "#   newname = img.bandNames().map(lambda name: ee.String(poll).cat(ee.String((ee.String(ee.String(name).split('_').get(2))))))\n",
        "\n",
        "#   img = img.rename(newname);\n",
        "  \n",
        "#   # make negative values as zero\n",
        "#   img = img.multiply(img.gt(0))\n",
        "#   #  output asset to cloud\n",
        "#   names = img.bandNames().getInfo();\n",
        "#   for band_i in range(len(names)):\n",
        "#     name = names[band_i];\n",
        "#     img_1band = img.select(name);\n",
        "    \n",
        "#     for i in range(len(cntrNames)):\n",
        "#       tblCollection = table;\n",
        "#       cntr_name = cntrNames[i];\n",
        "#       tbl = ee.Feature(tblCollection.filter(ee.Filter.eq('NAME_ENGL', cntr_name)).first())\n",
        "#       region = tbl.buffer(10000)   # buffer around 10km\n",
        "\n",
        "#       task = ee.batch.Export.image.toCloudStorage(\n",
        "#         image = img_1band.clip(region),\n",
        "#         description = name,\n",
        "#         bucket ='street-view-air-quality-uu',\n",
        "#         fileNamePrefix = 'YS_Model_Outputs/' + cntr_name+'/'+name,\n",
        "#         crs = 'EPSG:3035',\n",
        "#         crsTransform = projection['transform'],\n",
        "#         scale = 25,\n",
        "#         skipEmptyTiles = True,\n",
        "#         maxPixels = 1e13 ,\n",
        "#         region = region\n",
        "#       );\n",
        "#       task.start()\n",
        "\n",
        "  \n"
      ],
      "metadata": {
        "id": "e8Iz84gSyRPX"
      },
      "execution_count": null,
      "outputs": []
    },
    {
      "cell_type": "markdown",
      "metadata": {
        "id": "fDLAqiNWeD6t"
      },
      "source": [
        "## export EXPANSE surfaces\n"
      ]
    },
    {
      "cell_type": "markdown",
      "source": [
        "For PM2.5 (it takes around 6 mins)"
      ],
      "metadata": {
        "id": "ZEF-09lA9KOy"
      }
    },
    {
      "cell_type": "markdown",
      "source": [
        "Export at 14:45 16th of March 2022"
      ],
      "metadata": {
        "id": "ZvQ2B0gBAL7K"
      }
    },
    {
      "cell_type": "code",
      "source": [
        "poll_i=3\n",
        "  \n",
        "  \n",
        "poll = polls[poll_i];\n",
        "pollfolder = pollsfolders[poll_i];\n",
        "band_i=0;\n",
        "\n",
        "image_lists = ee.List([\n",
        "                      ee.Image(\"projects/ee-gtwr-\"+pollfolder+\"/assets/GTWR_00-19_25m_0_\"+\n",
        "                      poll+\"_d83c02c9f398ed7a910ad71c3bf206a1\"),\n",
        "                      ee.Image(\"projects/ee-gtwr-\"+pollfolder+\"/assets/GTWR_00-19_25m_1_\"+\n",
        "                      poll+\"_d83c02c9f398ed7a910ad71c3bf206a1\"),\n",
        "                      ee.Image(\"projects/ee-gtwr-\"+pollfolder+\"/assets/GTWR_00-19_25m_2_\"+\n",
        "                      poll+\"_d83c02c9f398ed7a910ad71c3bf206a1\"),\n",
        "                      ee.Image(\"projects/ee-gtwr-\"+pollfolder+\"/assets/GTWR_00-19_25m_3_\"+\n",
        "                      poll+\"_d83c02c9f398ed7a910ad71c3bf206a1\"),\n",
        "                      ee.Image(\"projects/ee-gtwr-\"+pollfolder+\"/assets/GTWR_00-19_25m_4_\"+\n",
        "                      poll+\"_d83c02c9f398ed7a910ad71c3bf206a1\"),\n",
        "                      ee.Image(\"projects/ee-gtwr-\"+pollfolder+\"/assets/GTWR_00-19_25m_5_\"+\n",
        "                      poll+\"_d83c02c9f398ed7a910ad71c3bf206a1\"),\n",
        "                      ee.Image(\"projects/ee-gtwr-\"+pollfolder+\"/assets/GTWR_00-19_25m_6_\"+\n",
        "                      poll+\"_d83c02c9f398ed7a910ad71c3bf206a1\"),\n",
        "                      ee.Image(\"projects/ee-gtwr-\"+pollfolder+\"/assets/GTWR_00-19_25m_7_\"+\n",
        "                      poll+\"_d83c02c9f398ed7a910ad71c3bf206a1\"),\n",
        "                      ee.Image(\"projects/ee-gtwr-\"+pollfolder+\"/assets/GTWR_00-19_25m_8_\"+\n",
        "                      poll+\"_d83c02c9f398ed7a910ad71c3bf206a1\")\n",
        "                      ])\n",
        "imgColl = ee.ImageCollection(image_lists)\n",
        "img = imgColl.mosaic();  # an image with 20 bands (each band contain the map for each year)\n",
        "\n",
        "\n",
        "newname = img.bandNames().map(lambda name: ee.String(poll).cat(ee.String((ee.String(ee.String(name).split('_').get(2))))))\n",
        "\n",
        "img = img.rename(newname);\n",
        "\n",
        "# make negative values as zero\n",
        "img = img.multiply(img.gt(0))\n",
        "#  output asset to cloud\n",
        "names = img.bandNames().getInfo();\n",
        "for band_i in range(len(names)):\n",
        "  name = names[band_i];\n",
        "  img_1band = img.select(name);\n",
        "  \n",
        "  for i in range(len(cntrNames)):\n",
        "    tblCollection = table;\n",
        "    cntr_name = cntrNames[i];\n",
        "    tbl = ee.Feature(tblCollection.filter(ee.Filter.eq('NAME_ENGL', cntr_name)).first())\n",
        "    region = tbl.buffer(10000)   # buffer around 10km\n",
        "\n",
        "    task = ee.batch.Export.image.toCloudStorage(\n",
        "      image = img_1band.clip(region),\n",
        "      description = name,\n",
        "      bucket ='street-view-air-quality-uu',\n",
        "      fileNamePrefix = 'YS_Model_Outputs/' + cntr_name+'/'+name,\n",
        "      crs = 'EPSG:3035',\n",
        "      crsTransform = projection['transform'],\n",
        "      scale = 25,\n",
        "      skipEmptyTiles = True,\n",
        "      maxPixels = 1e13 ,\n",
        "      region = region\n",
        "    );\n",
        "    task.start()\n"
      ],
      "metadata": {
        "id": "R4UL1RCs8Cck"
      },
      "execution_count": null,
      "outputs": []
    },
    {
      "cell_type": "markdown",
      "source": [
        "For PM10"
      ],
      "metadata": {
        "id": "nb-BXfZw9wWE"
      }
    },
    {
      "cell_type": "code",
      "source": [
        "poll_i=2\n",
        "  \n",
        "  \n",
        "poll = polls[poll_i];\n",
        "pollfolder = pollsfolders[poll_i];\n",
        "band_i=0;\n",
        "\n",
        "image_lists = ee.List([\n",
        "                      ee.Image(\"projects/ee-gtwr-\"+pollfolder+\"/assets/GTWR_00-19_25m_0_\"+\n",
        "                      poll+\"_d83c02c9f398ed7a910ad71c3bf206a1\"),\n",
        "                      ee.Image(\"projects/ee-gtwr-\"+pollfolder+\"/assets/GTWR_00-19_25m_1_\"+\n",
        "                      poll+\"_d83c02c9f398ed7a910ad71c3bf206a1\"),\n",
        "                      ee.Image(\"projects/ee-gtwr-\"+pollfolder+\"/assets/GTWR_00-19_25m_2_\"+\n",
        "                      poll+\"_d83c02c9f398ed7a910ad71c3bf206a1\"),\n",
        "                      ee.Image(\"projects/ee-gtwr-\"+pollfolder+\"/assets/GTWR_00-19_25m_3_\"+\n",
        "                      poll+\"_d83c02c9f398ed7a910ad71c3bf206a1\"),\n",
        "                      ee.Image(\"projects/ee-gtwr-\"+pollfolder+\"/assets/GTWR_00-19_25m_4_\"+\n",
        "                      poll+\"_d83c02c9f398ed7a910ad71c3bf206a1\"),\n",
        "                      ee.Image(\"projects/ee-gtwr-\"+pollfolder+\"/assets/GTWR_00-19_25m_5_\"+\n",
        "                      poll+\"_d83c02c9f398ed7a910ad71c3bf206a1\"),\n",
        "                      ee.Image(\"projects/ee-gtwr-\"+pollfolder+\"/assets/GTWR_00-19_25m_6_\"+\n",
        "                      poll+\"_d83c02c9f398ed7a910ad71c3bf206a1\"),\n",
        "                      ee.Image(\"projects/ee-gtwr-\"+pollfolder+\"/assets/GTWR_00-19_25m_7_\"+\n",
        "                      poll+\"_d83c02c9f398ed7a910ad71c3bf206a1\"),\n",
        "                      ee.Image(\"projects/ee-gtwr-\"+pollfolder+\"/assets/GTWR_00-19_25m_8_\"+\n",
        "                      poll+\"_d83c02c9f398ed7a910ad71c3bf206a1\")\n",
        "                      ])\n",
        "imgColl = ee.ImageCollection(image_lists)\n",
        "img = imgColl.mosaic();  # an image with 20 bands (each band contain the map for each year)\n",
        "\n",
        "\n",
        "newname = img.bandNames().map(lambda name: ee.String(poll).cat(ee.String((ee.String(ee.String(name).split('_').get(2))))))\n",
        "\n",
        "img = img.rename(newname);\n",
        "\n",
        "# make negative values as zero\n",
        "img = img.multiply(img.gt(0))\n",
        "#  output asset to cloud\n",
        "names = img.bandNames().getInfo();\n",
        "for band_i in range(len(names)):\n",
        "  name = names[band_i];\n",
        "  img_1band = img.select(name);\n",
        "  \n",
        "  for i in range(len(cntrNames)):\n",
        "    tblCollection = table;\n",
        "    cntr_name = cntrNames[i];\n",
        "    tbl = ee.Feature(tblCollection.filter(ee.Filter.eq('NAME_ENGL', cntr_name)).first())\n",
        "    region = tbl.buffer(10000)   # buffer around 10km\n",
        "\n",
        "    task = ee.batch.Export.image.toCloudStorage(\n",
        "      image = img_1band.clip(region),\n",
        "      description = name,\n",
        "      bucket ='street-view-air-quality-uu',\n",
        "      fileNamePrefix = 'YS_Model_Outputs/' + cntr_name+'/'+name,\n",
        "      crs = 'EPSG:3035',\n",
        "      crsTransform = projection['transform'],\n",
        "      scale = 25,\n",
        "      skipEmptyTiles = True,\n",
        "      maxPixels = 1e13 ,\n",
        "      region = region\n",
        "    );\n",
        "    task.start()\n"
      ],
      "metadata": {
        "id": "8P7uKOXm8IR7"
      },
      "execution_count": null,
      "outputs": []
    },
    {
      "cell_type": "markdown",
      "source": [
        "For O3"
      ],
      "metadata": {
        "id": "bpDkLwU-96dC"
      }
    },
    {
      "cell_type": "code",
      "source": [
        "poll_i=1\n",
        "  \n",
        "  \n",
        "poll = polls[poll_i];\n",
        "pollfolder = pollsfolders[poll_i];\n",
        "band_i=0;\n",
        "\n",
        "image_lists = ee.List([\n",
        "                      ee.Image(\"projects/ee-gtwr-\"+pollfolder+\"/assets/GTWR_00-19_25m_0_\"+\n",
        "                      poll+\"_d83c02c9f398ed7a910ad71c3bf206a1\"),\n",
        "                      ee.Image(\"projects/ee-gtwr-\"+pollfolder+\"/assets/GTWR_00-19_25m_1_\"+\n",
        "                      poll+\"_d83c02c9f398ed7a910ad71c3bf206a1\"),\n",
        "                      ee.Image(\"projects/ee-gtwr-\"+pollfolder+\"/assets/GTWR_00-19_25m_2_\"+\n",
        "                      poll+\"_d83c02c9f398ed7a910ad71c3bf206a1\"),\n",
        "                      ee.Image(\"projects/ee-gtwr-\"+pollfolder+\"/assets/GTWR_00-19_25m_3_\"+\n",
        "                      poll+\"_d83c02c9f398ed7a910ad71c3bf206a1\"),\n",
        "                      ee.Image(\"projects/ee-gtwr-\"+pollfolder+\"/assets/GTWR_00-19_25m_4_\"+\n",
        "                      poll+\"_d83c02c9f398ed7a910ad71c3bf206a1\"),\n",
        "                      ee.Image(\"projects/ee-gtwr-\"+pollfolder+\"/assets/GTWR_00-19_25m_5_\"+\n",
        "                      poll+\"_d83c02c9f398ed7a910ad71c3bf206a1\"),\n",
        "                      ee.Image(\"projects/ee-gtwr-\"+pollfolder+\"/assets/GTWR_00-19_25m_6_\"+\n",
        "                      poll+\"_d83c02c9f398ed7a910ad71c3bf206a1\"),\n",
        "                      ee.Image(\"projects/ee-gtwr-\"+pollfolder+\"/assets/GTWR_00-19_25m_7_\"+\n",
        "                      poll+\"_d83c02c9f398ed7a910ad71c3bf206a1\"),\n",
        "                      ee.Image(\"projects/ee-gtwr-\"+pollfolder+\"/assets/GTWR_00-19_25m_8_\"+\n",
        "                      poll+\"_d83c02c9f398ed7a910ad71c3bf206a1\")\n",
        "                      ])\n",
        "imgColl = ee.ImageCollection(image_lists)\n",
        "img = imgColl.mosaic();  # an image with 20 bands (each band contain the map for each year)\n",
        "\n",
        "\n",
        "newname = img.bandNames().map(lambda name: ee.String(poll).cat(ee.String((ee.String(ee.String(name).split('_').get(2))))))\n",
        "\n",
        "img = img.rename(newname);\n",
        "\n",
        "# make negative values as zero\n",
        "img = img.multiply(img.gt(0))\n",
        "#  output asset to cloud\n",
        "names = img.bandNames().getInfo();\n",
        "for band_i in range(len(names)):\n",
        "  name = names[band_i];\n",
        "  img_1band = img.select(name);\n",
        "  \n",
        "  for i in range(len(cntrNames)):\n",
        "    tblCollection = table;\n",
        "    cntr_name = cntrNames[i];\n",
        "    tbl = ee.Feature(tblCollection.filter(ee.Filter.eq('NAME_ENGL', cntr_name)).first())\n",
        "    region = tbl.buffer(10000)   # buffer around 10km\n",
        "\n",
        "    task = ee.batch.Export.image.toCloudStorage(\n",
        "      image = img_1band.clip(region),\n",
        "      description = name,\n",
        "      bucket ='street-view-air-quality-uu',\n",
        "      fileNamePrefix = 'YS_Model_Outputs/' + cntr_name+'/'+name,\n",
        "      crs = 'EPSG:3035',\n",
        "      crsTransform = projection['transform'],\n",
        "      scale = 25,\n",
        "      skipEmptyTiles = True,\n",
        "      maxPixels = 1e13 ,\n",
        "      region = region\n",
        "    );\n",
        "    task.start()\n"
      ],
      "metadata": {
        "id": "t9qyAct197eF"
      },
      "execution_count": null,
      "outputs": []
    },
    {
      "cell_type": "markdown",
      "source": [
        "For NO2"
      ],
      "metadata": {
        "id": "vAhEYnwH99lQ"
      }
    },
    {
      "cell_type": "code",
      "source": [
        "poll_i=0\n",
        "  \n",
        "  \n",
        "poll = polls[poll_i];\n",
        "pollfolder = pollsfolders[poll_i];\n",
        "band_i=0;\n",
        "\n",
        "image_lists = ee.List([\n",
        "                      ee.Image(\"projects/ee-gtwr-\"+pollfolder+\"/assets/GTWR_00-19_25m_0_\"+\n",
        "                      poll+\"_d83c02c9f398ed7a910ad71c3bf206a1\"),\n",
        "                      ee.Image(\"projects/ee-gtwr-\"+pollfolder+\"/assets/GTWR_00-19_25m_1_\"+\n",
        "                      poll+\"_d83c02c9f398ed7a910ad71c3bf206a1\"),\n",
        "                      ee.Image(\"projects/ee-gtwr-\"+pollfolder+\"/assets/GTWR_00-19_25m_2_\"+\n",
        "                      poll+\"_d83c02c9f398ed7a910ad71c3bf206a1\"),\n",
        "                      ee.Image(\"projects/ee-gtwr-\"+pollfolder+\"/assets/GTWR_00-19_25m_3_\"+\n",
        "                      poll+\"_d83c02c9f398ed7a910ad71c3bf206a1\"),\n",
        "                      ee.Image(\"projects/ee-gtwr-\"+pollfolder+\"/assets/GTWR_00-19_25m_4_\"+\n",
        "                      poll+\"_d83c02c9f398ed7a910ad71c3bf206a1\"),\n",
        "                      ee.Image(\"projects/ee-gtwr-\"+pollfolder+\"/assets/GTWR_00-19_25m_5_\"+\n",
        "                      poll+\"_d83c02c9f398ed7a910ad71c3bf206a1\"),\n",
        "                      ee.Image(\"projects/ee-gtwr-\"+pollfolder+\"/assets/GTWR_00-19_25m_6_\"+\n",
        "                      poll+\"_d83c02c9f398ed7a910ad71c3bf206a1\"),\n",
        "                      ee.Image(\"projects/ee-gtwr-\"+pollfolder+\"/assets/GTWR_00-19_25m_7_\"+\n",
        "                      poll+\"_d83c02c9f398ed7a910ad71c3bf206a1\"),\n",
        "                      ee.Image(\"projects/ee-gtwr-\"+pollfolder+\"/assets/GTWR_00-19_25m_8_\"+\n",
        "                      poll+\"_d83c02c9f398ed7a910ad71c3bf206a1\")\n",
        "                      ])\n",
        "imgColl = ee.ImageCollection(image_lists)\n",
        "img = imgColl.mosaic();  # an image with 20 bands (each band contain the map for each year)\n",
        "\n",
        "\n",
        "newname = img.bandNames().map(lambda name: ee.String(poll).cat(ee.String((ee.String(ee.String(name).split('_').get(2))))))\n",
        "\n",
        "img = img.rename(newname);\n",
        "\n",
        "# make negative values as zero\n",
        "img = img.multiply(img.gt(0))\n",
        "#  output asset to cloud\n",
        "names = img.bandNames().getInfo();\n",
        "for band_i in range(len(names)):\n",
        "  name = names[band_i];\n",
        "  img_1band = img.select(name);\n",
        "  \n",
        "  for i in range(len(cntrNames)):\n",
        "    tblCollection = table;\n",
        "    cntr_name = cntrNames[i];\n",
        "    tbl = ee.Feature(tblCollection.filter(ee.Filter.eq('NAME_ENGL', cntr_name)).first())\n",
        "    region = tbl.buffer(10000)   # buffer around 10km\n",
        "\n",
        "    task = ee.batch.Export.image.toCloudStorage(\n",
        "      image = img_1band.clip(region),\n",
        "      description = name,\n",
        "      bucket ='street-view-air-quality-uu',\n",
        "      fileNamePrefix = 'YS_Model_Outputs/' + cntr_name+'/'+name,\n",
        "      crs = 'EPSG:3035',\n",
        "      crsTransform = projection['transform'],\n",
        "      scale = 25,\n",
        "      skipEmptyTiles = True,\n",
        "      maxPixels = 1e13 ,\n",
        "      region = region\n",
        "    );\n",
        "    task.start()\n"
      ],
      "metadata": {
        "id": "sL1Q4sLV9-Y0"
      },
      "execution_count": null,
      "outputs": []
    }
  ]
}